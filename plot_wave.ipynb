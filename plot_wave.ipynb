{
 "cells": [
  {
   "cell_type": "code",
   "execution_count": 127,
   "metadata": {},
   "outputs": [],
   "source": [
    "import wave\n",
    "import numpy as np\n",
    "import matplotlib.pyplot as plt\n",
    "%matplotlib inline"
   ]
  },
  {
   "cell_type": "code",
   "execution_count": 137,
   "metadata": {},
   "outputs": [],
   "source": [
    "def print_wave_info(wf):\n",
    "    \"\"\"WAVEファイルの情報を取得\"\"\"\n",
    "    print (\"チャンネル数:\", wf.getnchannels())\n",
    "    print (\"サンプル幅:\", wf.getsampwidth())\n",
    "    print (\"サンプリング周波数:\", wf.getframerate())\n",
    "    print (\"フレーム数:\", wf.getnframes())\n",
    "    print (\"パラメータ:\", wf.getparams())\n",
    "    print (\"長さ（秒）:\", float(wf.getnframes()) / wf.getframerate())"
   ]
  },
  {
   "cell_type": "code",
   "execution_count": 140,
   "metadata": {},
   "outputs": [],
   "source": [
    "# 音声データをmatplotlibに合わせるため加工する\n",
    "def wave_normalization4matplot(filename):\n",
    "    wf = wave.open(filename, \"r\") # 音声データはbits_per_sampleが16bitにしないと読み込まないよ\n",
    "    print_wave_info(wf)\n",
    "    fs = wf.getframerate()\n",
    "    y = wf.readframes(wf.getnframes())\n",
    "    y = np.frombuffer(y,  dtype='int16') / 32768.0 # y軸を(-1, 1)に正規化\n",
    "    return y, float(fs)"
   ]
  },
  {
   "cell_type": "code",
   "execution_count": 141,
   "metadata": {},
   "outputs": [],
   "source": [
    "def change_aspect_ratio(ax, ratio):\n",
    "    aspect = (1/ratio) *(ax.get_xlim()[1] - ax.get_xlim()[0]) / (ax.get_ylim()[1] - ax.get_ylim()[0])\n",
    "    ax.set_aspect(aspect)"
   ]
  },
  {
   "cell_type": "code",
   "execution_count": 144,
   "metadata": {},
   "outputs": [
    {
     "name": "stdout",
     "output_type": "stream",
     "text": [
      "チャンネル数: 1\n",
      "サンプル幅: 2\n",
      "サンプリング周波数: 22050\n",
      "フレーム数: 61740\n",
      "パラメータ: _wave_params(nchannels=1, sampwidth=2, framerate=22050, nframes=61740, comptype='NONE', compname='not compressed')\n",
      "長さ（秒）: 2.8\n"
     ]
    },
    {
     "data": {
      "image/png": "[encoded data removed]",
      "text/plain": [
       "<Figure size 432x288 with 1 Axes>"
      ]
     },
     "metadata": {},
     "output_type": "display_data"
    }
   ],
   "source": [
    "# defalt plot\n",
    "filename = './yukari_1st/all_test_01_16.wav'\n",
    "y, fs =wave_normalization4matplot(filename)\n",
    "x = np.arange(0.0, len(y) / fs, 1/fs)\n",
    "_, ax = plt.subplots()\n",
    "ax.plot(x, y)\n",
    "ax.set_xlabel('time [s]')\n",
    "ax.set_ylabel('amplitude [dB]')\n",
    "ax.set_ylim([-1.0, 1.2])\n",
    "change_aspect_ratio(ax, 2)\n",
    "plt.savefig('./wav_plot_test')\n",
    "plt.show()"
   ]
  },
  {
   "cell_type": "code",
   "execution_count": null,
   "metadata": {},
   "outputs": [],
   "source": []
  }
 ],
 "metadata": {
  "kernelspec": {
   "display_name": "Python 3",
   "language": "python",
   "name": "python3"
  },
  "language_info": {
   "codemirror_mode": {
    "name": "ipython",
    "version": 3
   },
   "file_extension": ".py",
   "mimetype": "text/x-python",
   "name": "python",
   "nbconvert_exporter": "python",
   "pygments_lexer": "ipython3",
   "version": "3.6.5"
  }
 },
 "nbformat": 4,
 "nbformat_minor": 2
}

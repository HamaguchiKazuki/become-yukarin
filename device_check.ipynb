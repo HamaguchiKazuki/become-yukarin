{
 "cells": [
  {
   "cell_type": "code",
   "execution_count": 13,
   "metadata": {},
   "outputs": [],
   "source": [
    "import pyaudio\n",
    "import wave"
   ]
  },
  {
   "cell_type": "code",
   "execution_count": 14,
   "metadata": {
    "collapsed": true
   },
   "outputs": [],
   "source": [
    "CHUNK = 1024"
   ]
  },
  {
   "cell_type": "code",
   "execution_count": 17,
   "metadata": {},
   "outputs": [
    {
     "name": "stdout",
     "output_type": "stream",
     "text": [
      "device: 1\n",
      "error_device: 2\n",
      "device: 3\n",
      "error_device: 4\n",
      "device: 5\n",
      "device: 6\n",
      "device: 7\n",
      "error_device: 8\n",
      "error_device: 9\n",
      "device: 10\n",
      "device: 11\n",
      "device: 12\n",
      "error_device: 13\n",
      "error_device: 14\n",
      "error_device: 15\n",
      "error_device: 16\n",
      "error_device: 17\n",
      "error_device: 18\n",
      "error_device: 19\n",
      "error_device: 20\n",
      "device: 21\n",
      "device: 22\n",
      "device: 23\n",
      "device: 24\n",
      "error_device: 25\n",
      "device: 26\n"
     ]
    }
   ],
   "source": [
    "for i in range(1,27,1):\n",
    "    try:\n",
    "        wf = wave.open('./test_data/output.wav', 'rb')\n",
    "\n",
    "        p = pyaudio.PyAudio()\n",
    "\n",
    "        output_index = i\n",
    "\n",
    "        stream = p.open(\n",
    "            format=p.get_format_from_width(wf.getsampwidth()),\n",
    "            channels=wf.getnchannels(),\n",
    "            rate=wf.getframerate(),\n",
    "            output=True,\n",
    "            output_device_index=output_index\n",
    "        )\n",
    "\n",
    "        data = wf.readframes(CHUNK)\n",
    "\n",
    "        while len(data) > 0:\n",
    "            stream.write(data)\n",
    "            data=wf.readframes(CHUNK)\n",
    "\n",
    "        stream.stop_stream()\n",
    "        stream.close()\n",
    "\n",
    "        p.terminate()\n",
    "        print(\"device:\", output_index)\n",
    "    except OSError:\n",
    "        print(\"error_device:\", i)"
   ]
  },
  {
   "cell_type": "code",
   "execution_count": null,
   "metadata": {
    "collapsed": true
   },
   "outputs": [],
   "source": []
  }
 ],
 "metadata": {
  "kernelspec": {
   "display_name": "Python 3",
   "language": "python",
   "name": "python3"
  },
  "language_info": {
   "codemirror_mode": {
    "name": "ipython",
    "version": 3
   },
   "file_extension": ".py",
   "mimetype": "text/x-python",
   "name": "python",
   "nbconvert_exporter": "python",
   "pygments_lexer": "ipython3",
   "version": "3.6.3"
  }
 },
 "nbformat": 4,
 "nbformat_minor": 2
}
